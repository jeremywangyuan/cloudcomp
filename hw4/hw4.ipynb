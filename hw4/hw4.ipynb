{
 "cells": [
  {
   "cell_type": "code",
   "execution_count": 1,
   "metadata": {},
   "outputs": [],
   "source": [
    "import numpy as np\n",
    "import pyspark\n",
    "from pyspark.mllib.regression import LabeledPoint\n",
    "from pyspark.mllib.classification import LogisticRegressionWithSGD\n",
    "\n",
    "def sigmoid(x):\n",
    "    return 1.0 / (1.0 + np.exp(-x))\n",
    "\n",
    "def gradient(p, w):\n",
    "    x = p.label\n",
    "    y = p.features\n",
    "    return -sigmoid(-x * np.dot(w, y)) * x * y \n",
    "\n",
    "def CustomSGD(train_data, iter, lr):\n",
    "    \n",
    "    w = np.zeros(4)\n",
    "    \n",
    "    for _ in range(iter):\n",
    "        grad = train_data.map(lambda p: gradient(p, w)).reduce(lambda x, y: x + y)\n",
    "        w -= lr * grad / train_data.count()\n",
    "    \n",
    "    return w\n",
    "            \n",
    "def predict(model, features):\n",
    "    y = sigmoid(np.dot(model, features))\n",
    "    return round(y)\n",
    "\n",
    "def mapper(line):\n",
    "    \"\"\"\n",
    "    Mapper that converts an input line to a feature vector\n",
    "    \"\"\"    \n",
    "    values = [float(x) for x in line.split(',')]\n",
    "    return LabeledPoint(values[-1], values[:-1])\n",
    "\n",
    "sc = pyspark.SparkContext()\n",
    "\n",
    "data = sc.textFile(\"data_banknote_authentication.txt\")\n",
    "parsedData = data.map(mapper)\n"
   ]
  },
  {
   "cell_type": "code",
   "execution_count": 2,
   "metadata": {},
   "outputs": [
    {
     "name": "stdout",
     "output_type": "stream",
     "text": [
      "Training Error = 0.04446064139941691\n"
     ]
    }
   ],
   "source": [
    "model = LogisticRegressionWithSGD.train(parsedData)\n",
    "\n",
    "labelsAndPreds = parsedData.map(lambda point: (point.label, model.predict(point.features)))\n",
    "\n",
    "trainErr = labelsAndPreds.filter(lambda p: p[0] != p[1]).count() / float(parsedData.count())\n",
    "print(\"Training Error = \" + str(trainErr))"
   ]
  },
  {
   "cell_type": "code",
   "execution_count": 3,
   "metadata": {},
   "outputs": [
    {
     "name": "stdout",
     "output_type": "stream",
     "text": [
      "Training Error = 0.04518950437317784\n"
     ]
    }
   ],
   "source": [
    "model = CustomSGD(parsedData, iter = 1000, lr=1)\n",
    "\n",
    "labelsAndPreds = parsedData.map(lambda point: (point.label, predict(model, point.features)))\n",
    "\n",
    "trainErr = labelsAndPreds.filter(lambda p: p[0] != p[1]).count() / float(parsedData.count())\n",
    "print(\"Training Error = \" + str(trainErr))"
   ]
  },
  {
   "cell_type": "code",
   "execution_count": null,
   "metadata": {},
   "outputs": [],
   "source": []
  }
 ],
 "metadata": {
  "kernelspec": {
   "display_name": "Python 3",
   "language": "python",
   "name": "python3"
  },
  "language_info": {
   "codemirror_mode": {
    "name": "ipython",
    "version": 3
   },
   "file_extension": ".py",
   "mimetype": "text/x-python",
   "name": "python",
   "nbconvert_exporter": "python",
   "pygments_lexer": "ipython3",
   "version": "3.8.6"
  }
 },
 "nbformat": 4,
 "nbformat_minor": 4
}
